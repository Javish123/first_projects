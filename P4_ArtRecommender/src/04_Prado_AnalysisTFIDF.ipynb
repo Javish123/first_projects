{
 "cells": [
  {
   "cell_type": "markdown",
   "metadata": {},
   "source": [
    "# ART RECOMMENDER SYSTEM\n",
    "\n",
    "## Analysing Data - Prado\n",
    "\n",
    "This script will take the data retrieved from step [Importing and Cleaning Data - Prado](02_Prado_LoadClean.ipynb) and perform several analysis: TFIDF Analysis, StopWord removal, Topic Analysis and Topic graph.  \n",
    "\n",
    "The best fitting topic model will be saved to use in further steps to try and match the resulting topics with the topics found in the [Data Analysis for MET](03_MET_AnalysisTFIDF.ipynb)"
   ]
  },
  {
   "cell_type": "code",
   "execution_count": 1,
   "metadata": {
    "ExecuteTime": {
     "end_time": "2018-06-01T18:12:18.399405Z",
     "start_time": "2018-06-01T18:12:16.420587Z"
    }
   },
   "outputs": [],
   "source": [
    "import pickle\n",
    "import nltk\n",
    "import pandas as pd\n",
    "import numpy as np\n",
    "\n",
    "from sklearn import decomposition\n",
    "from sklearn import feature_extraction\n",
    "from textblob import TextBlob\n",
    "from os import listdir\n",
    "from os.path import isfile, join\n",
    "from sklearn.feature_extraction.text import TfidfVectorizer\n"
   ]
  },
  {
   "cell_type": "markdown",
   "metadata": {},
   "source": [
    "**Load all the descriptions retrieved from the scrapping of the website**"
   ]
  },
  {
   "cell_type": "code",
   "execution_count": 2,
   "metadata": {
    "ExecuteTime": {
     "end_time": "2018-06-01T18:12:19.143358Z",
     "start_time": "2018-06-01T18:12:19.124642Z"
    }
   },
   "outputs": [
    {
     "data": {
      "text/plain": [
       "['Prado_descriptions_9119.pkl',\n",
       " 'Prado_descriptions_9400.pkl',\n",
       " 'Prado_descriptions_9990.pkl']"
      ]
     },
     "execution_count": 2,
     "metadata": {},
     "output_type": "execute_result"
    }
   ],
   "source": [
    "mypath = '../PradoFiles/'\n",
    "onlyfiles = sorted([f for f in listdir(mypath) if isfile(join(mypath, f))])\n",
    "onlyfiles"
   ]
  },
  {
   "cell_type": "code",
   "execution_count": 3,
   "metadata": {
    "ExecuteTime": {
     "end_time": "2018-06-01T18:12:21.743246Z",
     "start_time": "2018-06-01T18:12:21.681150Z"
    }
   },
   "outputs": [
    {
     "data": {
      "text/plain": [
       "9990"
      ]
     },
     "execution_count": 3,
     "metadata": {},
     "output_type": "execute_result"
    }
   ],
   "source": [
    "prado_df = []\n",
    "for p in onlyfiles :\n",
    "    with open(mypath + p, 'rb') as f:\n",
    "        prado_df = prado_df + pickle.load(f)\n",
    "len(prado_df)"
   ]
  },
  {
   "cell_type": "code",
   "execution_count": 4,
   "metadata": {
    "ExecuteTime": {
     "end_time": "2018-05-29T13:00:15.005703Z",
     "start_time": "2018-05-29T13:00:15.000487Z"
    }
   },
   "outputs": [
    {
     "data": {
      "text/plain": [
       "[('El Pantocrátor sostenido por cuatro ángeles. Pintura mural de la ermita de la Vera Cruz de Maderuelo',\n",
       "  'https://www.museodelprado.es/coleccion/obra-de-arte/el-pantocrator-sostenido-por-cuatro-angeles/a331fb54-a6d4-4732-8509-daf462aa92bb?searchid=935001db-1031-b6de-3326-c18d0bc88037',\n",
       "  'El conjunto de las pinturas murales de la ermita de la Vera Cruz de Maderuelo (Segovia) fue trasladado a lienzo en 1947 y reconstruido en el Museo del Prado lo más fielmente posible a su disposición original. Los muros de la capilla están decorados con figuras de ángeles, Apóstoles y escenas evangélicas, y los testeros presentan dos temas bíblicos: Bóveda, centro: El Pantocrátor sostenido por cuatro ángeles; lateral izquierdo: La Anunciación, Ángel turiferario, San Mateo y San Lucas. Lateral derecho: San Marcos, Ángel con rollo, ¿San Juan Evangelista?, Ángel turiferario, Ángel con libro, Santo obispo. Medios puntos: Caín (para algunos autores Melquisedec) y Abel presentan ofrendas al Cordero inserto en la Cruz, La creación de Adán y El Pecado Original. Muro izquierdo: Seis Apóstoles, La Magdalena unge los pies del Señor, Adoración de un Mago a la Virgen con el Niño; Muro derecho: Cuatro Apóstoles. Las figuras representadas, típicamente románicas, no tienen volumen ni profundidad y están delimitadas por unos simples contornos que dividen los espacios correspondientes. El estilo del artista ha sido siempre considerado muy próximo al Maestro de Tahull. '),\n",
       " ('Parte inferior del Pantocrátor. Pintura mural de la ermita de la Vera Cruz de Maderuelo',\n",
       "  'https://www.museodelprado.es/coleccion/obra-de-arte/parte-inferior-del-pantocrator-pintura-mural-de/c6906e66-1285-4dc9-b203-929966e4354e?searchid=935001db-1031-b6de-3326-c18d0bc88037',\n",
       "  'El conjunto de las pinturas murales de la ermita de la Vera Cruz de Maderuelo (Segovia) fue trasladado a lienzo en 1947 y reconstruido en el Museo del Prado lo más fielmente posible a su disposición original. Los muros de la capilla están decorados con figuras de ángeles, Apóstoles y escenas evangélicas, y los testeros presentan dos temas bíblicos: Bóveda, centro: El Pantocrátor sostenido por cuatro ángeles; lateral izquierdo: La Anunciación, Ángel turiferario, San Mateo y San Lucas. Lateral derecho: San Marcos, Ángel con rollo, ¿San Juan Evangelista?, Ángel turiferario, Ángel con libro, Santo obispo. Medios puntos: Caín (para algunos autores Melquisedec) y Abel presentan ofrendas al Cordero inserto en la Cruz, La creación de Adán y El Pecado Original. Muro izquierdo: Seis Apóstoles, La Magdalena unge los pies del Señor, Adoración de un Mago a la Virgen con el Niño; Muro derecho: Cuatro Apóstoles. Las figuras representadas, típicamente románicas, no tienen volumen ni profundidad y están delimitadas por unos simples contornos que dividen los espacios correspondientes. El estilo del artista ha sido siempre considerado muy próximo al Maestro de Tahull. '),\n",
       " ('La Magdalena. Pintura mural de la ermita de la Vera Cruz de Maderuelo',\n",
       "  'https://www.museodelprado.es/coleccion/obra-de-arte/la-magdalena-pintura-mural-de-la-ermita-de-la/0ad8f53d-8249-40b0-9e75-73d59f0ec014?searchid=935001db-1031-b6de-3326-c18d0bc88037',\n",
       "  'El conjunto de las pinturas murales de la ermita de la Vera Cruz de Maderuelo (Segovia) fue trasladado a lienzo en 1947 y reconstruido en el Museo del Prado lo más fielmente posible a su disposición original. Los muros de la capilla están decorados con figuras de ángeles, Apóstoles y escenas evangélicas, y los testeros presentan dos temas bíblicos: Bóveda, centro: El Pantocrátor sostenido por cuatro ángeles; lateral izquierdo: La Anunciación, Ángel turiferario, San Mateo y San Lucas. Lateral derecho: San Marcos, Ángel con rollo, ¿San Juan Evangelista?, Ángel turiferario, Ángel con libro, Santo obispo. Medios puntos: Caín (para algunos autores Melquisedec) y Abel presentan ofrendas al Cordero inserto en la Cruz, La creación de Adán y El Pecado Original. Muro izquierdo: Seis Apóstoles, La Magdalena unge los pies del Señor, Adoración de un Mago a la Virgen con el Niño; Muro derecho: Cuatro Apóstoles. Las figuras representadas, típicamente románicas, no tienen volumen ni profundidad y están delimitadas por unos simples contornos que dividen los espacios correspondientes. El estilo del artista ha sido siempre considerado muy próximo al Maestro de Tahull. '),\n",
       " ('Adoración de un Rey Mago. Pintura mural de la ermita de la Vera Cruz de Maderuelo',\n",
       "  'https://www.museodelprado.es/coleccion/obra-de-arte/adoracion-de-un-rey-mago-pintura-mural-de-la/ee612310-a1b0-4b21-b40c-52538f31855e?searchid=935001db-1031-b6de-3326-c18d0bc88037',\n",
       "  'El conjunto de las pinturas murales de la ermita de la Vera Cruz de Maderuelo (Segovia) fue trasladado a lienzo en 1947 y reconstruido en el Museo del Prado lo más fielmente posible a su disposición original. Los muros de la capilla están decorados con figuras de ángeles, Apóstoles y escenas evangélicas, y los testeros presentan dos temas bíblicos: Bóveda, centro: El Pantocrátor sostenido por cuatro ángeles; lateral izquierdo: La Anunciación, Ángel turiferario, San Mateo y San Lucas. Lateral derecho: San Marcos, Ángel con rollo, ¿San Juan Evangelista?, Ángel turiferario, Ángel con libro, Santo obispo. Medios puntos: Caín (para algunos autores Melquisedec) y Abel presentan ofrendas al Cordero inserto en la Cruz, La creación de Adán y El Pecado Original. Muro izquierdo: Seis Apóstoles, La Magdalena unge los pies del Señor, Adoración de un Mago a la Virgen con el Niño; Muro derecho: Cuatro Apóstoles. Las figuras representadas, típicamente románicas, no tienen volumen ni profundidad y están delimitadas por unos simples contornos que dividen los espacios correspondientes. El estilo del artista ha sido siempre considerado muy próximo al Maestro de Tahull. '),\n",
       " ('Dos apóstoles y el resto de un tercero. Pintura mural de la ermita de la Vera Cruz de Maderuelo',\n",
       "  'https://www.museodelprado.es/coleccion/obra-de-arte/dos-apostoles-y-el-resto-de-un-tercero-pintura/c73c8574-3607-4efb-90fc-5fc6a888b34b?searchid=935001db-1031-b6de-3326-c18d0bc88037',\n",
       "  'El conjunto de las pinturas murales de la ermita de la Vera Cruz de Maderuelo (Segovia) fue trasladado a lienzo en 1947 y reconstruido en el Museo del Prado lo más fielmente posible a su disposición original. Los muros de la capilla están decorados con figuras de ángeles, Apóstoles y escenas evangélicas, y los testeros presentan dos temas bíblicos: Bóveda, centro: El Pantocrátor sostenido por cuatro ángeles; lateral izquierdo: La Anunciación, Ángel turiferario, San Mateo y San Lucas. Lateral derecho: San Marcos, Ángel con rollo, ¿San Juan Evangelista?, Ángel turiferario, Ángel con libro, Santo obispo. Medios puntos: Caín (para algunos autores Melquisedec) y Abel presentan ofrendas al Cordero inserto en la Cruz, La creación de Adán y El Pecado Original. Muro izquierdo: Seis Apóstoles, La Magdalena unge los pies del Señor, Adoración de un Mago a la Virgen con el Niño; Muro derecho: Cuatro Apóstoles. Las figuras representadas, típicamente románicas, no tienen volumen ni profundidad y están delimitadas por unos simples contornos que dividen los espacios correspondientes. El estilo del artista ha sido siempre considerado muy próximo al Maestro de Tahull. '),\n",
       " ('Dos apóstoles. Pintura mural de la ermita de la Vera Cruz de Maderuelo',\n",
       "  'https://www.museodelprado.es/coleccion/obra-de-arte/dos-apostoles-pintura-mural-de-la-ermita-de-la/0cd8b144-33ad-4793-a384-40a31d28fab6?searchid=935001db-1031-b6de-3326-c18d0bc88037',\n",
       "  'El conjunto de las pinturas murales de la ermita de la Vera Cruz de Maderuelo (Segovia) fue trasladado a lienzo en 1947 y reconstruido en el Museo del Prado lo más fielmente posible a su disposición original. Los muros de la capilla están decorados con figuras de ángeles, Apóstoles y escenas evangélicas, y los testeros presentan dos temas bíblicos: Bóveda, centro: El Pantocrátor sostenido por cuatro ángeles; lateral izquierdo: La Anunciación, Ángel turiferario, San Mateo y San Lucas. Lateral derecho: San Marcos, Ángel con rollo, ¿San Juan Evangelista?, Ángel turiferario, Ángel con libro, Santo obispo. Medios puntos: Caín (para algunos autores Melquisedec) y Abel presentan ofrendas al Cordero inserto en la Cruz, La creación de Adán y El Pecado Original. Muro izquierdo: Seis Apóstoles, La Magdalena unge los pies del Señor, Adoración de un Mago a la Virgen con el Niño; Muro derecho: Cuatro Apóstoles. Las figuras representadas, típicamente románicas, no tienen volumen ni profundidad y están delimitadas por unos simples contornos que dividen los espacios correspondientes. El estilo del artista ha sido siempre considerado muy próximo al Maestro de Tahull. '),\n",
       " ('Caín (o Melquisedec) presentando ofrenda. Pintura mural de la ermita de la Vera Cruz de Maderuelo',\n",
       "  'https://www.museodelprado.es/coleccion/obra-de-arte/cain-o-melquisedec-presentando-ofrenda-pintura/80637fe6-9592-4afa-a11c-bf4da3e0411f?searchid=935001db-1031-b6de-3326-c18d0bc88037',\n",
       "  'El conjunto de las pinturas murales de la ermita de la Vera Cruz de Maderuelo (Segovia) fue trasladado a lienzo en 1947 y reconstruido en el Museo del Prado lo más fielmente posible a su disposición original. Los muros de la capilla están decorados con figuras de ángeles, Apóstoles y escenas evangélicas, y los testeros presentan dos temas bíblicos: Bóveda, centro: El Pantocrátor sostenido por cuatro ángeles; lateral izquierdo: La Anunciación, Ángel turiferario, San Mateo y San Lucas. Lateral derecho: San Marcos, Ángel con rollo, ¿San Juan Evangelista?, Ángel turiferario, Ángel con libro, Santo obispo. Medios puntos: Caín (para algunos autores Melquisedec) y Abel presentan ofrendas al Cordero inserto en la Cruz, La creación de Adán y El Pecado Original. Muro izquierdo: Seis Apóstoles, La Magdalena unge los pies del Señor, Adoración de un Mago a la Virgen con el Niño; Muro derecho: Cuatro Apóstoles. Las figuras representadas, típicamente románicas, no tienen volumen ni profundidad y están delimitadas por unos simples contornos que dividen los espacios correspondientes. El estilo del artista ha sido siempre considerado muy próximo al Maestro de Tahull. '),\n",
       " ('Abel presentando ofrendas. Pintura mural de la ermita de la Vera Cruz de Maderuelo',\n",
       "  'https://www.museodelprado.es/coleccion/obra-de-arte/abel-presentando-ofrendas-pintura-mural-de-la/85ce4ccb-b34c-40fc-8e3d-4fa044f0e140?searchid=935001db-1031-b6de-3326-c18d0bc88037',\n",
       "  'El conjunto de las pinturas murales de la ermita de la Vera Cruz de Maderuelo (Segovia) fue trasladado a lienzo en 1947 y reconstruido en el Museo del Prado lo más fielmente posible a su disposición original. Los muros de la capilla están decorados con figuras de ángeles, Apóstoles y escenas evangélicas, y los testeros presentan dos temas bíblicos: Bóveda, centro: El Pantocrátor sostenido por cuatro ángeles; lateral izquierdo: La Anunciación, Ángel turiferario, San Mateo y San Lucas. Lateral derecho: San Marcos, Ángel con rollo, ¿San Juan Evangelista?, Ángel turiferario, Ángel con libro, Santo obispo. Medios puntos: Caín (para algunos autores Melquisedec) y Abel presentan ofrendas al Cordero inserto en la Cruz, La creación de Adán y El Pecado Original. Muro izquierdo: Seis Apóstoles, La Magdalena unge los pies del Señor, Adoración de un Mago a la Virgen con el Niño; Muro derecho: Cuatro Apóstoles. Las figuras representadas, típicamente románicas, no tienen volumen ni profundidad y están delimitadas por unos simples contornos que dividen los espacios correspondientes. El estilo del artista ha sido siempre considerado muy próximo al Maestro de Tahull. '),\n",
       " ('Intradós de ventana. Pintura mural de la ermita de la Vera Cruz de Maderuelo',\n",
       "  'https://www.museodelprado.es/coleccion/obra-de-arte/intrados-de-ventana-pintura-mural-de-la-ermita-de/bed9ff9c-1276-4578-b8d3-e38794ee751e?searchid=935001db-1031-b6de-3326-c18d0bc88037',\n",
       "  'El conjunto de las pinturas murales de la ermita de la Vera Cruz de Maderuelo (Segovia) fue trasladado a lienzo en 1947 y reconstruido en el Museo del Prado lo más fielmente posible a su disposición original. Los muros de la capilla están decorados con figuras de ángeles, Apóstoles y escenas evangélicas, y los testeros presentan dos temas bíblicos: Bóveda, centro: El Pantocrátor sostenido por cuatro ángeles; lateral izquierdo: La Anunciación, Ángel turiferario, San Mateo y San Lucas. Lateral derecho: San Marcos, Ángel con rollo, ¿San Juan Evangelista?, Ángel turiferario, Ángel con libro, Santo obispo. Medios puntos: Caín (para algunos autores Melquisedec) y Abel presentan ofrendas al Cordero inserto en la Cruz, La creación de Adán y El Pecado Original. Muro izquierdo: Seis Apóstoles, La Magdalena unge los pies del Señor, Adoración de un Mago a la Virgen con el Niño; Muro derecho: Cuatro Apóstoles. Las figuras representadas, típicamente románicas, no tienen volumen ni profundidad y están delimitadas por unos simples contornos que dividen los espacios correspondientes. El estilo del artista ha sido siempre considerado muy próximo al Maestro de Tahull. '),\n",
       " ('Dos ángeles y un santo arzobispo. Pintura mural de la ermita de la Vera Cruz de Maderuelo',\n",
       "  'https://www.museodelprado.es/coleccion/obra-de-arte/dos-angeles-y-un-santo-arzobispo-pintura-mural-de/d1dfbd36-33dc-437b-a147-565ecaff81a8?searchid=935001db-1031-b6de-3326-c18d0bc88037',\n",
       "  'El conjunto de las pinturas murales de la ermita de la Vera Cruz de Maderuelo (Segovia) fue trasladado a lienzo en 1947 y reconstruido en el Museo del Prado lo más fielmente posible a su disposición original. Los muros de la capilla están decorados con figuras de ángeles, Apóstoles y escenas evangélicas, y los testeros presentan dos temas bíblicos: Bóveda, centro: El Pantocrátor sostenido por cuatro ángeles; lateral izquierdo: La Anunciación, Ángel turiferario, San Mateo y San Lucas. Lateral derecho: San Marcos, Ángel con rollo, ¿San Juan Evangelista?, Ángel turiferario, Ángel con libro, Santo obispo. Medios puntos: Caín (para algunos autores Melquisedec) y Abel presentan ofrendas al Cordero inserto en la Cruz, La creación de Adán y El Pecado Original. Muro izquierdo: Seis Apóstoles, La Magdalena unge los pies del Señor, Adoración de un Mago a la Virgen con el Niño; Muro derecho: Cuatro Apóstoles. Las figuras representadas, típicamente románicas, no tienen volumen ni profundidad y están delimitadas por unos simples contornos que dividen los espacios correspondientes. El estilo del artista ha sido siempre considerado muy próximo al Maestro de Tahull. ')]"
      ]
     },
     "execution_count": 4,
     "metadata": {},
     "output_type": "execute_result"
    }
   ],
   "source": [
    "prado_df[:10]"
   ]
  },
  {
   "cell_type": "code",
   "execution_count": 4,
   "metadata": {
    "ExecuteTime": {
     "end_time": "2018-06-01T18:12:28.159614Z",
     "start_time": "2018-06-01T18:12:28.152640Z"
    }
   },
   "outputs": [
    {
     "data": {
      "text/plain": [
       "9990"
      ]
     },
     "execution_count": 4,
     "metadata": {},
     "output_type": "execute_result"
    }
   ],
   "source": [
    "#Aqui tengo solo los textos\n",
    "prado_desc = [x[2] for x in prado_df if x[1] != '']\n",
    "len(prado_desc)"
   ]
  },
  {
   "cell_type": "code",
   "execution_count": 5,
   "metadata": {
    "ExecuteTime": {
     "end_time": "2018-06-01T18:12:34.677039Z",
     "start_time": "2018-06-01T18:12:34.662142Z"
    }
   },
   "outputs": [
    {
     "data": {
      "text/plain": [
       "6965"
      ]
     },
     "execution_count": 5,
     "metadata": {},
     "output_type": "execute_result"
    }
   ],
   "source": [
    "#Eliminar duplicados\n",
    "prado_desc = list(set(prado_desc))\n",
    "len(prado_desc)"
   ]
  },
  {
   "cell_type": "markdown",
   "metadata": {},
   "source": [
    "# TFIDF Analysis\n",
    "### Stemming (Test for spanish stemmers)"
   ]
  },
  {
   "cell_type": "code",
   "execution_count": 7,
   "metadata": {
    "ExecuteTime": {
     "end_time": "2018-05-29T13:00:19.647598Z",
     "start_time": "2018-05-29T13:00:19.640431Z"
    }
   },
   "outputs": [],
   "source": [
    "from nltk.stem import SnowballStemmer\n",
    "\n",
    "def norm_text(text) :\n",
    "    word_list = []\n",
    "    stemmer = SnowballStemmer('spanish')\n",
    "    wrds = words.split()\n",
    "    for word in wrds:\n",
    "         word_list.append(stemmer.stem(word))\n",
    "    return ' '.join(word_list)"
   ]
  },
  {
   "cell_type": "code",
   "execution_count": 103,
   "metadata": {
    "ExecuteTime": {
     "end_time": "2018-05-25T20:39:02.532603Z",
     "start_time": "2018-05-25T20:39:02.475840Z"
    }
   },
   "outputs": [
    {
     "name": "stdout",
     "output_type": "stream",
     "text": [
      "This mourning handkerchief commemorates President McKinley's assassination at the Pan-American Exposition in Buffalo, New York 1901. The 1899 date printed on the handkerchief reflects the copyright for the cyanotype process, but the date of the handkerchief itself is 1901 or after. The flags in the boarder signify the participating nations in the Pan-American Exposition.\n",
      "thi mourn handkerchief commem presid mckinley 's assassin at the pan-americ exposit in buffalo new york 1901 the 1899 dat print on the handkerchief reflect the copyright for the cyanotyp process but the dat of the handkerchief itself is 1901 or aft the flag in the board sign the particip nat in the pan-americ exposit\n"
     ]
    }
   ],
   "source": [
    "w = 28\n",
    "print(prado_desc[w])\n",
    "print(norm_text(prado_desc[w]))"
   ]
  },
  {
   "cell_type": "code",
   "execution_count": 104,
   "metadata": {
    "ExecuteTime": {
     "end_time": "2018-05-25T20:40:10.587397Z",
     "start_time": "2018-05-25T20:39:26.613407Z"
    }
   },
   "outputs": [
    {
     "data": {
      "text/plain": [
       "[\"feat her is an extraordin exampl of an inf 's gown that was certain for a baby of the highest soc ord the access record suggest that thi may hav been worn by a baby of a russ czar which would be appropry as the dress is quit grandios the high soc stand of the individ is ind by the extraordin leng of the skirt 33 3/4 inch with the typ longest leng of inf 's dress being 28 30 inch thi piec is mor refin than oth exampl due to the complex and exquisit needlework throughout\",\n",
       " \"the subject was the art 's fath 1768-1839\",\n",
       " 'the claw-and-ball feet flut column and urn-and-flame fin on thi coal grat exhibit clos simil to chippendale-styl furnit indee thoma chippend illust design for coal grat in his gentlem and cabinetmak ’ s direct not i would recommend the orna part to be of wrought brass and as they may be mad to tak off wil be easy cle',\n",
       " 'the chromolithographed card has been apply to a larg piec of openwork lac pap and affix to a fold pag which op lik a book with poetry print on the verso the fold pag is beig pap with a wid gold bord the im is that of a young maid dress in a roman-style flow rob with blu ribbon at her waist and her blond hair coil upon her head fast with mor blu ribbon she stand besid a stream and smal waterfal her wat pitch in her left hand and her right hand at her cheek look cury at the cupid who appear to be hov in the air the intery poetry describ the scene.th card print by marc ward co london is unsign',\n",
       " \"wang ao a nat of suzhou was on of the most fam lit fig of his day he also enjoy a success car at the court ris to the posit of grand secret and juny tut to the emperor.wang cre thi scroll at the height of his court car as a farewel pres for fellow off wu yan 1457–1519 wu had been deput by the emp to serv as an hon escort to his unc xu pu 1428–1499 when xu retir from the grand secret follow the poem wang ad a not describ thi ev and sign the piec with al his court titl thu transform a priv gift into a pow publ testimon of wu 's hon rol as the emp 's emissary.as befit thi kind of form pres piec wang wrot his text in dram large-scal charact that show off to maxim adv his distinct styl of lean angul brushwork with it sharp firm mov in rec year the scroll was a treas possess of the art and collect c c wang who also com from suzhou and trac his famy lin to wang ao\"]"
      ]
     },
     "execution_count": 104,
     "metadata": {},
     "output_type": "execute_result"
    }
   ],
   "source": [
    "norm_desc=[norm_text(w) for w in prado_desc]\n",
    "norm_desc[:5]"
   ]
  },
  {
   "cell_type": "markdown",
   "metadata": {},
   "source": [
    "**Stop Words**  \n",
    "(Stop words in spanish were downloaded from [here](https://github.com/stopwords-iso))"
   ]
  },
  {
   "cell_type": "code",
   "execution_count": 6,
   "metadata": {
    "ExecuteTime": {
     "end_time": "2018-06-01T18:13:25.698843Z",
     "start_time": "2018-06-01T18:13:25.683207Z"
    },
    "scrolled": true
   },
   "outputs": [],
   "source": [
    "with open('../utils/stopwords-es.txt') as f:\n",
    "    stop_words_es = f.readlines()\n",
    "stop_words_es = [sw.replace('\\n', '') for sw in stop_words_es]\n",
    "stop_words_es += 'a b c d e f g h i j k l m n ñ o p q r s t u v w x y z'.split()\n",
    "stop_words_es += 'i ii iii iv v vi vii viii ix x xi xii xiii xiv xv xvi xvii xviii xix xx pp'.split()\n",
    "stop_words_es += 'museo museos museum prado obra obras pintura pinturas artista artistas dibujo dibujos lienzo lienzos mena \\\n",
    "                autor autores autora autoras ambas ambos torno disposicion nombre nombres boceto bocetos \\\n",
    "                pintor pintores siglo siglos periodo periodos decada decadas presente pasado futuro antiguo antigua habitual \\\n",
    "                retrato retratos arquitectura proyecto proyectos admirado arte artes elemento elementos vista vistas \\\n",
    "                motivo motivos principal principales menor mayor menores mayores interior exterior interiores exteriores \\\n",
    "                donado donada donados donadas donacion maestro maestros academia personaje personajes \\\n",
    "                izquierda izquierdo derecha derecho fondo coleccion colecciones madrid nacional plano traves \\\n",
    "                inferior superior inferiores superiores central mitad similar similares idea ideas posterior anterior \\\n",
    "                utilizar utilizo utiliza utilizando utilizaba utilizaban aspecto aspectos cuaderno cuadernos \\\n",
    "                tecnica tecnicas escena escenas ano anos año años catalogo exposicion produccion escuela caso casos algun algunos \\\n",
    "                diferencia diferencias icono iconografia posible diez frente conocido conocida conocidos conocidas \\\n",
    "                composicion composiciones expresion caracteristico caracteristica caracteristicas formato formatos angulo angulos \\\n",
    "                especial especialmente segura seguro seguramente posible posiblemente probable probablemente \\\n",
    "                tipo asunto asuntos particular particulares espacio espacios \\\n",
    "                desarrollo desarrolla desarrollando desarrollan desarrollar desarrollaba desarrollaban \\\n",
    "                plasmar plasma plasmo plasmando plasman tema temas conjunto conjuntos copia copias numeroso lapiz lapices \\\n",
    "                mostrar muestra muestro mostrando mostro muestran mostraba mostraban figura figuras apunte apuntes \\\n",
    "                encargo encargos tratamiento tratamientos serie series cuadro cuadros fresco frescos estudio estudios \\\n",
    "                aparecer aparecio aparece apareciendo aparecen aparecia aparecian \\\n",
    "                publicar publico publica publicando publican publicaba publicaban publicado publicada publicados publicadas \\\n",
    "                encontrar encuentro encuentra encontro encuentra encontrando encuentran encontraba encontraban \\\n",
    "                imagen imagenes cuyo cuya cuyos cuyas taller don dona estilo estilos inventario inventarios \\\n",
    "                mucho muchos mucha muchas arriba abajo centro diseno disenos temprano titulo titulo efecto efectos \\\n",
    "                color colores modelo modelos evidente relacion actitud fecha base ocasion ocasiones pictorico pictorica \\\n",
    "                contener contenido contenida contenidos contenidas contenia contiene contienen contenian \\\n",
    "                expresar expreso expresa expresaba expresaban expresando posicion posiciones texto textos \\\n",
    "                preparatorio preparatorios principio principios perfil perfiles importante importantes \\\n",
    "                grande gran pequeno grandes pequenos pequena pequenas alto bajo \\\n",
    "                espanol espanoles espanola espanolas italiano italiana italianos italianas \\\n",
    "                conservar conserva conservo conservan conservando conserbaba conservaban \\\n",
    "                realizar realiza realizo realizan realizando realizaba realizaban realizado realizada realizados realizadas \\\n",
    "                dar da doy dio dan dando daba daban das \\\n",
    "                representar representa represento representan representando representaba representaban representacion representado representada representado representadas \\\n",
    "                presentar presenta presento presentan presentando presentaba presentaban presentacion presentado presentados presentada presentadas \\\n",
    "                pintar pinta pinto pintan pintado pintada pintados pintadas pintando pintaba pintaban \\\n",
    "                terminar termina termino terminan terminado terminada terminados terminadas terminando terminaba terminaban \\\n",
    "                sostener sostiene sustuvo sostienen sostenido sostenida sostenidos sostenidas sosteniendo sostenia sostenian \\\n",
    "                permitir permite permitio permiten permitido permitida permitidos permitidas permitiendo permitia permitian \\\n",
    "                extraer extrae extrajo extractado extractada extraen extraido extraida extraidos extraidas extrayendo extraia extraian \\\n",
    "                recordar recuerda recordo recordado recordada recordados recordadas recuerdan recordando recordaba recordaban \\\n",
    "                atribuir atribuye atribuyo atribuido atribuida atribuidos atribuidas atribuyen atribuyendo atribuia atribuian \\\n",
    "                destacar destaca destaco destacado destacada destacados destacadas destacan destacando destacaba destacaban \\\n",
    "                apreciar aprecia aprecio apreciado apreciada apreciados apreciadas aprecian apreciando apreciaba apreciaban \\\n",
    "                recibir recibe recibo recibio recibido recibida recibidos recibidas reciben recibiendo recibia recibian \\\n",
    "                situar situa situo situado situada situados situadas situan situando situaba situaban \\\n",
    "                tener tiene tengo tenia tenian teniendo'.split()\n",
    "stop_words_es = set(stop_words_es)    "
   ]
  },
  {
   "cell_type": "markdown",
   "metadata": {},
   "source": [
    "### TFIDF Model"
   ]
  },
  {
   "cell_type": "code",
   "execution_count": 7,
   "metadata": {
    "ExecuteTime": {
     "end_time": "2018-06-01T18:13:29.881063Z",
     "start_time": "2018-06-01T18:13:28.786422Z"
    }
   },
   "outputs": [
    {
     "data": {
      "text/plain": [
       "TfidfVectorizer(analyzer='word', binary=False, decode_error='strict',\n",
       "        dtype=<class 'numpy.int64'>, encoding='utf-8', input='content',\n",
       "        lowercase=True, max_df=0.7, max_features=None, min_df=0.03,\n",
       "        ngram_range=(1, 1), norm='l2', preprocessor=None, smooth_idf=True,\n",
       "        stop_words={'vaya', 'cuaderno', 'éste', 'mostraba', 'exposicion', 'xi', 'ningunas', 'utilizando', 'mostrar', 'b', 'tendrían', 'pintura', 'relacion', 'presentan', 'vuestra', 'utilizo', 'se', 'sostiene', 'haciendo', 'través', 'dibujo', 'permitidos', 'recibian', 'manifestó', 'extrae', 'expresar', 'tuvi...tro', 'das', 'primera', 'asuntos', 'aparece', 'cuánta', 'plasmo', 'contenidas', 'pueda', 'hubieron'},\n",
       "        strip_accents='ascii', sublinear_tf=False,\n",
       "        token_pattern='\\\\b[a-z][a-z]+\\\\b', tokenizer=None, use_idf=True,\n",
       "        vocabulary=None)"
      ]
     },
     "execution_count": 7,
     "metadata": {},
     "output_type": "execute_result"
    }
   ],
   "source": [
    "idf_vectorizer = feature_extraction.text.TfidfVectorizer(\n",
    "    ngram_range=(1, 1),\n",
    "    stop_words=stop_words_es,\n",
    "    strip_accents = 'ascii',\n",
    "    token_pattern=\"\\\\b[a-z][a-z]+\\\\b\",\n",
    "    min_df = 0.03,\n",
    "    max_df = 0.7\n",
    ")\n",
    "\n",
    "idf_vectorizer.fit(prado_desc)"
   ]
  },
  {
   "cell_type": "code",
   "execution_count": 8,
   "metadata": {
    "ExecuteTime": {
     "end_time": "2018-06-01T18:13:29.898245Z",
     "start_time": "2018-06-01T18:13:29.883635Z"
    },
    "scrolled": true
   },
   "outputs": [
    {
     "name": "stdout",
     "output_type": "stream",
     "text": [
      "\n",
      "number of features: 188\n",
      "random set of features: ['formas' 'sentada' 'carrera' 'rostro' 'pensar' 'familia' 'jose' 'capilla'\n",
      " 'blanco' 'italia' 'espectador' 'colorido' 'amplio' 'estancia' 'manos'\n",
      " 'oro' 'carrera' 'felipe' 'gusto' 'resto']\n",
      "\n"
     ]
    }
   ],
   "source": [
    "feature_names = idf_vectorizer.get_feature_names()\n",
    "print(f\"\"\"\n",
    "number of features: {len(feature_names):,}\n",
    "random set of features: {np.random.choice(feature_names, size=20)}\n",
    "\"\"\")"
   ]
  },
  {
   "cell_type": "code",
   "execution_count": 9,
   "metadata": {
    "ExecuteTime": {
     "end_time": "2018-06-01T18:13:36.583347Z",
     "start_time": "2018-06-01T18:13:35.850526Z"
    }
   },
   "outputs": [
    {
     "data": {
      "text/plain": [
       "(6965, 188)"
      ]
     },
     "execution_count": 9,
     "metadata": {},
     "output_type": "execute_result"
    }
   ],
   "source": [
    "# Create the term-document matrix\n",
    "counts = idf_vectorizer.transform(prado_desc)\n",
    "# this gives us a [num_documents, num_features] sparse matrix\n",
    "counts.shape"
   ]
  },
  {
   "cell_type": "markdown",
   "metadata": {},
   "source": [
    "## Topic Analysis - NMF\n",
    "**How many topics?**  \n",
    "Check inertia value from K-means models using diffferent k values.  KMeans is not the best model in this case, but it will give us an idea for k (Number of topics) when inertia is the lowest"
   ]
  },
  {
   "cell_type": "code",
   "execution_count": 170,
   "metadata": {
    "ExecuteTime": {
     "end_time": "2018-05-30T20:13:01.642218Z",
     "start_time": "2018-05-30T20:12:51.161712Z"
    }
   },
   "outputs": [
    {
     "name": "stdout",
     "output_type": "stream",
     "text": [
      "3\n",
      "4\n",
      "5\n",
      "6\n",
      "7\n",
      "8\n",
      "9\n",
      "10\n",
      "11\n",
      "12\n",
      "13\n",
      "14\n",
      "15\n",
      "16\n",
      "17\n",
      "18\n",
      "19\n",
      "20\n"
     ]
    }
   ],
   "source": [
    "from sklearn.cluster import KMeans\n",
    "from sklearn.metrics import silhouette_score\n",
    "\n",
    "x = range(3,21)\n",
    "y_inertia = []\n",
    "\n",
    "for k in x:\n",
    "    km = KMeans(n_clusters=k, init='k-means++', n_init=5, random_state=1, n_jobs=1, max_iter=3)\n",
    "    km.fit(counts)\n",
    "    labels = km.labels_\n",
    "    y_inertia.append(km.inertia_)\n",
    "    print(k)"
   ]
  },
  {
   "cell_type": "code",
   "execution_count": 172,
   "metadata": {
    "ExecuteTime": {
     "end_time": "2018-05-30T20:13:34.536594Z",
     "start_time": "2018-05-30T20:13:34.350059Z"
    }
   },
   "outputs": [
    {
     "name": "stdout",
     "output_type": "stream",
     "text": [
      "Populating the interactive namespace from numpy and matplotlib\n"
     ]
    },
    {
     "data": {
      "text/plain": [
       "[<matplotlib.lines.Line2D at 0x1a6381f898>]"
      ]
     },
     "execution_count": 172,
     "metadata": {},
     "output_type": "execute_result"
    },
    {
     "data": {
      "image/png": "[encoded data removed]",
      "text/plain": [
       "<matplotlib.figure.Figure at 0x1a637f6b38>"
      ]
     },
     "metadata": {},
     "output_type": "display_data"
    }
   ],
   "source": [
    "%pylab inline\n",
    "plt.plot(x, y_inertia, 'bo-', )"
   ]
  },
  {
   "cell_type": "code",
   "execution_count": 11,
   "metadata": {
    "ExecuteTime": {
     "end_time": "2018-06-01T18:13:49.751231Z",
     "start_time": "2018-06-01T18:13:49.747975Z"
    }
   },
   "outputs": [],
   "source": [
    "n_topics = 7"
   ]
  },
  {
   "cell_type": "markdown",
   "metadata": {},
   "source": [
    "### My Topics"
   ]
  },
  {
   "cell_type": "code",
   "execution_count": 12,
   "metadata": {
    "ExecuteTime": {
     "end_time": "2018-06-01T18:13:50.732488Z",
     "start_time": "2018-06-01T18:13:50.392698Z"
    }
   },
   "outputs": [],
   "source": [
    "from sklearn.decomposition import NMF\n",
    "\n",
    "model = NMF(n_components=n_topics, init='random', random_state=818)\n",
    "doc_top = model.fit_transform(counts)"
   ]
  },
  {
   "cell_type": "code",
   "execution_count": 13,
   "metadata": {
    "ExecuteTime": {
     "end_time": "2018-06-01T18:15:05.442414Z",
     "start_time": "2018-06-01T18:15:05.375331Z"
    }
   },
   "outputs": [
    {
     "data": {
      "text/html": [
       "<div>\n",
       "<style scoped>\n",
       "    .dataframe tbody tr th:only-of-type {\n",
       "        vertical-align: middle;\n",
       "    }\n",
       "\n",
       "    .dataframe tbody tr th {\n",
       "        vertical-align: top;\n",
       "    }\n",
       "\n",
       "    .dataframe thead th {\n",
       "        text-align: right;\n",
       "    }\n",
       "</style>\n",
       "<table border=\"1\" class=\"dataframe\">\n",
       "  <thead>\n",
       "    <tr style=\"text-align: right;\">\n",
       "      <th></th>\n",
       "      <th>0</th>\n",
       "      <th>1</th>\n",
       "      <th>2</th>\n",
       "      <th>3</th>\n",
       "      <th>4</th>\n",
       "      <th>5</th>\n",
       "      <th>6</th>\n",
       "    </tr>\n",
       "  </thead>\n",
       "  <tbody>\n",
       "    <tr>\n",
       "      <th>0</th>\n",
       "      <td>san, 13.76%</td>\n",
       "      <td>marques, 21.53%</td>\n",
       "      <td>carlos, 19.31%</td>\n",
       "      <td>arnaez, 17.01%</td>\n",
       "      <td>goya, 24.74%</td>\n",
       "      <td>sanchez, 15.63%</td>\n",
       "      <td>rey, 2.64%</td>\n",
       "    </tr>\n",
       "    <tr>\n",
       "      <th>1</th>\n",
       "      <td>virgen, 4.61%</td>\n",
       "      <td>atribucion, 5.86%</td>\n",
       "      <td>gutierrez, 18.77%</td>\n",
       "      <td>cabeza, 13.36%</td>\n",
       "      <td>castillo, 6.84%</td>\n",
       "      <td>perez, 15.09%</td>\n",
       "      <td>felipe, 2.49%</td>\n",
       "    </tr>\n",
       "    <tr>\n",
       "      <th>2</th>\n",
       "      <td>santo, 4.51%</td>\n",
       "      <td>mano, 5.50%</td>\n",
       "      <td>cielo, 14.18%</td>\n",
       "      <td>zaragoza, 5.53%</td>\n",
       "      <td>jose, 6.54%</td>\n",
       "      <td>alfonso, 9.49%</td>\n",
       "      <td>palacio, 2.34%</td>\n",
       "    </tr>\n",
       "    <tr>\n",
       "      <th>3</th>\n",
       "      <td>iglesia, 3.80%</td>\n",
       "      <td>calidad, 3.16%</td>\n",
       "      <td>paisaje, 8.64%</td>\n",
       "      <td>toledo, 5.22%</td>\n",
       "      <td>mariano, 6.48%</td>\n",
       "      <td>mano, 3.22%</td>\n",
       "      <td>espana, 2.20%</td>\n",
       "    </tr>\n",
       "    <tr>\n",
       "      <th>4</th>\n",
       "      <td>juan, 3.79%</td>\n",
       "      <td>sentada, 2.96%</td>\n",
       "      <td>arboles, 6.85%</td>\n",
       "      <td>catedral, 4.99%</td>\n",
       "      <td>salvador, 6.46%</td>\n",
       "      <td>pie, 2.93%</td>\n",
       "      <td>real, 2.19%</td>\n",
       "    </tr>\n",
       "    <tr>\n",
       "      <th>5</th>\n",
       "      <td>santa, 3.68%</td>\n",
       "      <td>nino, 2.95%</td>\n",
       "      <td>nubes, 5.97%</td>\n",
       "      <td>palacio, 4.16%</td>\n",
       "      <td>pluma, 1.77%</td>\n",
       "      <td>desnudo, 2.68%</td>\n",
       "      <td>rubens, 2.05%</td>\n",
       "    </tr>\n",
       "    <tr>\n",
       "      <th>6</th>\n",
       "      <td>cristo, 3.15%</td>\n",
       "      <td>virgen, 2.56%</td>\n",
       "      <td>luz, 2.68%</td>\n",
       "      <td>femenina, 3.99%</td>\n",
       "      <td>francisco, 1.60%</td>\n",
       "      <td>manos, 2.13%</td>\n",
       "      <td>maria, 1.89%</td>\n",
       "    </tr>\n",
       "    <tr>\n",
       "      <th>7</th>\n",
       "      <td>francisco, 2.89%</td>\n",
       "      <td>reverso, 2.40%</td>\n",
       "      <td>paso, 1.76%</td>\n",
       "      <td>manos, 3.48%</td>\n",
       "      <td>negro, 1.36%</td>\n",
       "      <td>angeles, 2.01%</td>\n",
       "      <td>reina, 1.58%</td>\n",
       "    </tr>\n",
       "    <tr>\n",
       "      <th>8</th>\n",
       "      <td>nino, 2.65%</td>\n",
       "      <td>sentado, 2.26%</td>\n",
       "      <td>paisajes, 1.72%</td>\n",
       "      <td>real, 3.48%</td>\n",
       "      <td>mujer, 1.10%</td>\n",
       "      <td>cabeza, 1.99%</td>\n",
       "      <td>orden, 1.55%</td>\n",
       "    </tr>\n",
       "    <tr>\n",
       "      <th>9</th>\n",
       "      <td>retablo, 2.62%</td>\n",
       "      <td>pluma, 1.92%</td>\n",
       "      <td>natural, 1.34%</td>\n",
       "      <td>brazo, 3.39%</td>\n",
       "      <td>forma, 1.10%</td>\n",
       "      <td>sentado, 1.98%</td>\n",
       "      <td>historia, 1.54%</td>\n",
       "    </tr>\n",
       "  </tbody>\n",
       "</table>\n",
       "</div>"
      ],
      "text/plain": [
       "                  0                  1                  2                3  \\\n",
       "0       san, 13.76%    marques, 21.53%     carlos, 19.31%   arnaez, 17.01%   \n",
       "1     virgen, 4.61%  atribucion, 5.86%  gutierrez, 18.77%   cabeza, 13.36%   \n",
       "2      santo, 4.51%        mano, 5.50%      cielo, 14.18%  zaragoza, 5.53%   \n",
       "3    iglesia, 3.80%     calidad, 3.16%     paisaje, 8.64%    toledo, 5.22%   \n",
       "4       juan, 3.79%     sentada, 2.96%     arboles, 6.85%  catedral, 4.99%   \n",
       "5      santa, 3.68%        nino, 2.95%       nubes, 5.97%   palacio, 4.16%   \n",
       "6     cristo, 3.15%      virgen, 2.56%         luz, 2.68%  femenina, 3.99%   \n",
       "7  francisco, 2.89%     reverso, 2.40%        paso, 1.76%     manos, 3.48%   \n",
       "8       nino, 2.65%     sentado, 2.26%    paisajes, 1.72%      real, 3.48%   \n",
       "9    retablo, 2.62%       pluma, 1.92%     natural, 1.34%     brazo, 3.39%   \n",
       "\n",
       "                  4                5                6  \n",
       "0      goya, 24.74%  sanchez, 15.63%       rey, 2.64%  \n",
       "1   castillo, 6.84%    perez, 15.09%    felipe, 2.49%  \n",
       "2       jose, 6.54%   alfonso, 9.49%   palacio, 2.34%  \n",
       "3    mariano, 6.48%      mano, 3.22%    espana, 2.20%  \n",
       "4   salvador, 6.46%       pie, 2.93%      real, 2.19%  \n",
       "5      pluma, 1.77%   desnudo, 2.68%    rubens, 2.05%  \n",
       "6  francisco, 1.60%     manos, 2.13%     maria, 1.89%  \n",
       "7      negro, 1.36%   angeles, 2.01%     reina, 1.58%  \n",
       "8      mujer, 1.10%    cabeza, 1.99%     orden, 1.55%  \n",
       "9      forma, 1.10%   sentado, 1.98%  historia, 1.54%  "
      ]
     },
     "execution_count": 13,
     "metadata": {},
     "output_type": "execute_result"
    }
   ],
   "source": [
    "doc_max_top = np.argmax(doc_top, axis=1 )\n",
    "topic_words = []\n",
    "for r in model.components_:\n",
    "    r_normalized = r/sum(r)\n",
    "    a = sorted([(v,i) for i,v in enumerate(r_normalized)],reverse=True)[0:10]\n",
    "    topic_words.append([ f\"{feature_names[e[1]]}, {e[0]:.2%}\"  for e in a])\n",
    "pd.DataFrame(np.array(topic_words).T)"
   ]
  },
  {
   "cell_type": "code",
   "execution_count": 142,
   "metadata": {
    "ExecuteTime": {
     "end_time": "2018-05-29T20:12:34.097214Z",
     "start_time": "2018-05-29T20:12:34.090978Z"
    }
   },
   "outputs": [],
   "source": [
    "def print_top_words(model, feature_names, n_top_words):\n",
    "    for topic_idx, topic in enumerate(model.components_):\n",
    "        message = \"Topic #%d: (\" % topic_idx\n",
    "        message += \"), (\".join([feature_names[i]\n",
    "                             for i in topic.argsort()[:-n_top_words - 1:-1]])\n",
    "        print(message+')')\n",
    "    print()"
   ]
  },
  {
   "cell_type": "code",
   "execution_count": 143,
   "metadata": {
    "ExecuteTime": {
     "end_time": "2018-05-29T20:12:34.539257Z",
     "start_time": "2018-05-29T20:12:34.533116Z"
    },
    "scrolled": false
   },
   "outputs": [
    {
     "name": "stdout",
     "output_type": "stream",
     "text": [
      "Topic #0: (san), (virgen), (santo), (iglesia), (juan), (santa), (cristo), (francisco), (nino), (retablo)\n",
      "Topic #1: (marques), (atribucion), (mano), (calidad), (sentada), (nino), (virgen), (reverso), (sentado), (pluma)\n",
      "Topic #2: (carlos), (gutierrez), (cielo), (paisaje), (arboles), (nubes), (luz), (paso), (paisajes), (natural)\n",
      "Topic #3: (arnaez), (cabeza), (zaragoza), (toledo), (catedral), (palacio), (femenina), (manos), (real), (brazo)\n",
      "Topic #4: (goya), (castillo), (jose), (mariano), (salvador), (pluma), (francisco), (negro), (mujer), (forma)\n",
      "Topic #5: (sanchez), (perez), (alfonso), (mano), (pie), (desnudo), (manos), (angeles), (cabeza), (sentado)\n",
      "Topic #6: (rey), (felipe), (palacio), (espana), (real), (rubens), (maria), (reina), (orden), (historia)\n",
      "\n"
     ]
    }
   ],
   "source": [
    "print_top_words(model, feature_names, 10)"
   ]
  },
  {
   "cell_type": "code",
   "execution_count": 147,
   "metadata": {
    "ExecuteTime": {
     "end_time": "2018-05-29T20:28:11.475051Z",
     "start_time": "2018-05-29T20:28:11.469592Z"
    }
   },
   "outputs": [],
   "source": [
    "import pickle\n",
    "\n",
    "model.feature_names = feature_names\n",
    "with open('../models/Prado_NMF07.pkl', 'wb') as f:\n",
    "    pickle.dump(model, f)"
   ]
  },
  {
   "cell_type": "markdown",
   "metadata": {},
   "source": [
    "## Plot! (Dimention reduction to 2 (2D))"
   ]
  },
  {
   "cell_type": "code",
   "execution_count": 150,
   "metadata": {
    "ExecuteTime": {
     "end_time": "2018-05-29T20:30:26.126585Z",
     "start_time": "2018-05-29T20:30:08.259287Z"
    }
   },
   "outputs": [
    {
     "name": "stdout",
     "output_type": "stream",
     "text": [
      "Populating the interactive namespace from numpy and matplotlib\n",
      "[t-SNE] Computing 91 nearest neighbors...\n",
      "[t-SNE] Indexed 995 samples in 0.000s...\n",
      "[t-SNE] Computed neighbors for 995 samples in 0.040s...\n",
      "[t-SNE] Computed conditional probabilities for sample 995 / 995\n",
      "[t-SNE] Mean sigma: 0.065098\n"
     ]
    },
    {
     "name": "stderr",
     "output_type": "stream",
     "text": [
      "/Users/monita/anaconda3/lib/python3.6/site-packages/IPython/core/magics/pylab.py:160: UserWarning: pylab import has clobbered these variables: ['f']\n",
      "`%matplotlib` prevents importing * from pylab and numpy\n",
      "  \"\\n`%matplotlib` prevents importing * from pylab and numpy\"\n"
     ]
    },
    {
     "name": "stdout",
     "output_type": "stream",
     "text": [
      "[t-SNE] KL divergence after 250 iterations with early exaggeration: 59.121468\n",
      "[t-SNE] Error after 1000 iterations: 0.532977\n"
     ]
    },
    {
     "data": {
      "image/png": "[encoded data removed]",
      "text/plain": [
       "<matplotlib.figure.Figure at 0x1a6323a860>"
      ]
     },
     "metadata": {},
     "output_type": "display_data"
    }
   ],
   "source": [
    "%pylab inline\n",
    "from sklearn.manifold import TSNE\n",
    "# plot with tsne!\n",
    "doc_plot = TSNE(verbose=1, metric=\"cosine\").fit_transform(doc_top[::n_topics,:])\n",
    "\n",
    "plt.scatter(doc_plot[:,0],doc_plot[:,1], c=doc_max_top[::n_topics], alpha=.4)\n",
    "plt.title(\"tsne with max topic labels\")\n",
    "plt.savefig(\"../img/Prado_NMF07.pdf\")"
   ]
  },
  {
   "cell_type": "code",
   "execution_count": 35,
   "metadata": {
    "ExecuteTime": {
     "end_time": "2018-06-01T18:55:21.823206Z",
     "start_time": "2018-06-01T18:55:08.917960Z"
    }
   },
   "outputs": [
    {
     "name": "stdout",
     "output_type": "stream",
     "text": [
      "[t-SNE] Computing 31 nearest neighbors...\n",
      "[t-SNE] Indexed 995 samples in 0.000s...\n",
      "[t-SNE] Computed neighbors for 995 samples in 0.024s...\n",
      "[t-SNE] Computed conditional probabilities for sample 995 / 995\n",
      "[t-SNE] Mean sigma: 0.000000\n",
      "[t-SNE] KL divergence after 250 iterations with early exaggeration: 68.135437\n",
      "[t-SNE] Error after 1000 iterations: 0.633776\n"
     ]
    }
   ],
   "source": [
    "from sklearn.manifold import TSNE\n",
    "new_values = TSNE(verbose=1, metric=\"cosine\", perplexity=10).fit_transform(doc_top[::n_topics,:])"
   ]
  },
  {
   "cell_type": "code",
   "execution_count": 53,
   "metadata": {
    "ExecuteTime": {
     "end_time": "2018-06-03T05:05:32.059125Z",
     "start_time": "2018-06-03T05:05:29.677961Z"
    }
   },
   "outputs": [
    {
     "name": "stdout",
     "output_type": "stream",
     "text": [
      "Populating the interactive namespace from numpy and matplotlib\n"
     ]
    },
    {
     "data": {
      "image/png": "[encoded data removed]",
      "text/plain": [
       "<matplotlib.figure.Figure at 0x1a23fa2940>"
      ]
     },
     "metadata": {},
     "output_type": "display_data"
    },
    {
     "data": {
      "text/plain": [
       "<matplotlib.figure.Figure at 0x1a2487ffd0>"
      ]
     },
     "metadata": {},
     "output_type": "display_data"
    }
   ],
   "source": [
    "%pylab inline\n",
    "import matplotlib.patches as mpatches\n",
    "# plot with tsne!\n",
    "\n",
    "x = []\n",
    "y = []\n",
    "labels = []\n",
    "topics=['Religion', 'Portrait', 'Landscape', 'Building', 'Goya', 'Nude', 'Royal']\n",
    "tokens=doc_top[::n_topics,:]\n",
    "for value in new_values:\n",
    "    x.append(value[0])\n",
    "    y.append(value[1])\n",
    "\n",
    "cmap = matplotlib.cm.get_cmap('tab20_r')\n",
    "cmapScale = int(cmap.N / n_topics)\n",
    "plt.figure(figsize=(10, 10),facecolor='#e40000ff')\n",
    "labels = [] \n",
    "for i in range(len(x)):\n",
    "    label = np.argmax(tokens[i])\n",
    "    labels.append(label)\n",
    "    plt.scatter(x[i],y[i], c=cmap(label*cmapScale),s=120)\n",
    "\n",
    "color_legend = []\n",
    "for i in range(n_topics):\n",
    "    boolArr = np.array(labels) == i\n",
    "    x_avg = np.median(np.array(x)[boolArr])\n",
    "    y_avg = np.median(np.array(y)[boolArr])\n",
    "    plt.annotate(topics[i],\n",
    "                 xy=(x_avg, y_avg),\n",
    "                 xytext=(5, 2),\n",
    "                 textcoords='offset points',\n",
    "                 ha='center',\n",
    "                 va='center',\n",
    "                 fontsize=18, weight='bold')\n",
    "                 #bbox=dict(boxstyle=\"round\", fc=\"whitesmoke\",alpha=0.7))\n",
    "    color_legend.append(mpatches.Patch(color=cmap(i*cmapScale), label=f'Topic #{i+1}: {topics[i]}'))\n",
    "# plt.legend(handles=color_legend,fontsize=18)\n",
    "plt.axis('off')\n",
    "plt.show()\n",
    "plt.savefig(\"../img/Prado_NMF07.pdf\")"
   ]
  },
  {
   "cell_type": "code",
   "execution_count": null,
   "metadata": {},
   "outputs": [],
   "source": []
  }
 ],
 "metadata": {
  "kernelspec": {
   "display_name": "Python 3",
   "language": "python",
   "name": "python3"
  },
  "language_info": {
   "codemirror_mode": {
    "name": "ipython",
    "version": 3
   },
   "file_extension": ".py",
   "mimetype": "text/x-python",
   "name": "python",
   "nbconvert_exporter": "python",
   "pygments_lexer": "ipython3",
   "version": "3.6.5"
  }
 },
 "nbformat": 4,
 "nbformat_minor": 2
}
